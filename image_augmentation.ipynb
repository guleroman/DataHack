{
 "cells": [
  {
   "cell_type": "code",
   "execution_count": 32,
   "metadata": {},
   "outputs": [],
   "source": [
    "#importing some useful packages\n",
    "import matplotlib.pyplot as plt\n",
    "import matplotlib.gridspec as gridspec\n",
    "import cv2\n",
    "import os \n",
    "\n",
    "import numpy as np\n",
    "%matplotlib inline\n",
    "import matplotlib.image as mpimg\n",
    "def augment_brightness_camera_images(image):\n",
    "    image1 = cv2.cvtColor(image,cv2.COLOR_RGB2HSV)\n",
    "    random_bright = .25+np.random.uniform()\n",
    "    #print(random_bright)\n",
    "    image1[:,:,2] = image1[:,:,2]*random_bright\n",
    "    image1 = cv2.cvtColor(image1,cv2.COLOR_HSV2RGB)\n",
    "    return image1\n",
    "\n",
    "def transform_image(img,ang_range,shear_range,trans_range,brightness=0):\n",
    "    '''\n",
    "    This function transforms images to generate new images.\n",
    "    The function takes in following arguments,\n",
    "    1- Image\n",
    "    2- ang_range: Range of angles for rotation\n",
    "    3- shear_range: Range of values to apply affine transform to\n",
    "    4- trans_range: Range of values to apply translations over.\n",
    "\n",
    "    A Random uniform distribution is used to generate different parameters for transformation\n",
    "\n",
    "    '''\n",
    "    # Rotation\n",
    "\n",
    "    ang_rot = np.random.uniform(ang_range)-ang_range/2\n",
    "    rows,cols,ch = img.shape    \n",
    "    Rot_M = cv2.getRotationMatrix2D((cols/2,rows/2),ang_rot,1)\n",
    "\n",
    "    # Translation\n",
    "    tr_x = trans_range*np.random.uniform()-trans_range/2\n",
    "    tr_y = trans_range*np.random.uniform()-trans_range/2\n",
    "    Trans_M = np.float32([[1,0,tr_x],[0,1,tr_y]])\n",
    "\n",
    "    # Shear\n",
    "    pts1 = np.float32([[5,5],[20,5],[5,20]])\n",
    "\n",
    "    pt1 = 5+shear_range*np.random.uniform()-shear_range/2\n",
    "    pt2 = 20+shear_range*np.random.uniform()-shear_range/2\n",
    "\n",
    "    # Brightness\n",
    "\n",
    "\n",
    "    pts2 = np.float32([[pt1,5],[pt2,pt1],[5,pt2]])\n",
    "\n",
    "    shear_M = cv2.getAffineTransform(pts1,pts2)\n",
    "\n",
    "    img = cv2.warpAffine(img,Rot_M,(cols,rows))\n",
    "    img = cv2.warpAffine(img,Trans_M,(cols,rows))\n",
    "    img = cv2.warpAffine(img,shear_M,(cols,rows))\n",
    "\n",
    "    if brightness == 1:\n",
    "      img = augment_brightness_camera_images(img)\n",
    "\n",
    "    return img"
   ]
  },
  {
   "cell_type": "code",
   "execution_count": 31,
   "metadata": {
    "scrolled": false
   },
   "outputs": [
    {
     "name": "stderr",
     "output_type": "stream",
     "text": [
      "\n",
      "  0%|                                                                                           | 0/15 [00:00<?, ?it/s]\n",
      "  7%|█████▌                                                                             | 1/15 [00:00<00:08,  1.70it/s]\n",
      " 13%|███████████                                                                        | 2/15 [00:07<00:33,  2.56s/it]\n",
      " 20%|████████████████▌                                                                  | 3/15 [00:15<00:49,  4.11s/it]\n",
      " 27%|██████████████████████▏                                                            | 4/15 [00:22<00:56,  5.10s/it]\n",
      " 33%|███████████████████████████▋                                                       | 5/15 [00:30<00:59,  5.92s/it]\n",
      " 40%|█████████████████████████████████▏                                                 | 6/15 [00:31<00:38,  4.28s/it]\n",
      " 47%|██████████████████████████████████████▋                                            | 7/15 [00:41<00:49,  6.17s/it]\n",
      " 53%|████████████████████████████████████████████▎                                      | 8/15 [00:52<00:52,  7.50s/it]\n",
      " 60%|█████████████████████████████████████████████████▊                                 | 9/15 [01:02<00:49,  8.25s/it]\n",
      " 67%|██████████████████████████████████████████████████████▋                           | 10/15 [01:02<00:29,  5.88s/it]\n",
      " 73%|████████████████████████████████████████████████████████████▏                     | 11/15 [01:04<00:18,  4.52s/it]\n",
      " 80%|█████████████████████████████████████████████████████████████████▌                | 12/15 [01:04<00:10,  3.45s/it]\n",
      " 87%|███████████████████████████████████████████████████████████████████████           | 13/15 [01:05<00:05,  2.65s/it]\n",
      " 93%|████████████████████████████████████████████████████████████████████████████▌     | 14/15 [01:06<00:02,  2.13s/it]\n",
      "100%|██████████████████████████████████████████████████████████████████████████████████| 15/15 [01:07<00:00,  1.71s/it]"
     ]
    },
    {
     "data": {
      "text/plain": [
       "<Figure size 864x864 with 0 Axes>"
      ]
     },
     "metadata": {},
     "output_type": "display_data"
    }
   ],
   "source": [
    "from tqdm import tqdm\n",
    "gs1 = gridspec.GridSpec(10, 10)\n",
    "gs1.update(wspace=0.01, hspace=0.02) # set the spacing between axes.\n",
    "plt.figure(figsize=(12,12))\n",
    "for d, dirs, files in os.walk('./sample_data/zasorennost/'): \n",
    "    pass\n",
    "for file in tqdm(files):\n",
    "    image = mpimg.imread('./sample_data/zasorennost/'+file)\n",
    "    for i in range(16):\n",
    "        #ax1 = plt.subplot(gs1[i])\n",
    "        #ax1.set_xticklabels([])\n",
    "        #ax1.set_yticklabels([])\n",
    "        #ax1.set_aspect('equal')\n",
    "        img = transform_image(image,20,10,5,brightness=1)\n",
    "\n",
    "        #plt.subplot(10,10,i+1)\n",
    "        #plt.imshow(img)\n",
    "        #plt.axis('off')\n",
    "        cv2.imwrite('./aug/zasorennost/'+file+str(i)+'.jpg',img)\n",
    "\n",
    "   # plt.show()"
   ]
  }
 ],
 "metadata": {
  "kernelspec": {
   "display_name": "Python 3",
   "language": "python",
   "name": "python3"
  },
  "language_info": {
   "codemirror_mode": {
    "name": "ipython",
    "version": 3
   },
   "file_extension": ".py",
   "mimetype": "text/x-python",
   "name": "python",
   "nbconvert_exporter": "python",
   "pygments_lexer": "ipython3",
   "version": "3.7.3"
  }
 },
 "nbformat": 4,
 "nbformat_minor": 2
}
